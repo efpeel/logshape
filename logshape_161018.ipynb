{
 "cells": [
  {
   "cell_type": "code",
   "execution_count": 1,
   "metadata": {},
   "outputs": [],
   "source": [
    "import pandas as pd\n",
    "import numpy as np\n",
    "import welly\n",
    "import lasio\n",
    "\n",
    "  \n",
    "\n",
    "from scipy import integrate\n",
    "from scipy import signal\n",
    "from ipywidgets import interact\n",
    "\n",
    "%matplotlib inline\n",
    "import matplotlib.pyplot as plt"
   ]
  },
  {
   "cell_type": "code",
   "execution_count": 2,
   "metadata": {},
   "outputs": [
    {
     "data": {
      "text/plain": [
       "'/Users/flo/PythonScripts'"
      ]
     },
     "execution_count": 2,
     "metadata": {},
     "output_type": "execute_result"
    }
   ],
   "source": [
    "%pwd"
   ]
  },
  {
   "cell_type": "code",
   "execution_count": 3,
   "metadata": {},
   "outputs": [
    {
     "name": "stderr",
     "output_type": "stream",
     "text": [
      "Header section Parameter regexp=~P was not found.\n"
     ]
    }
   ],
   "source": [
    "from welly import Well\n",
    "\n",
    "w = Well.from_las('./data/well.las')\n"
   ]
  },
  {
   "cell_type": "code",
   "execution_count": 13,
   "metadata": {},
   "outputs": [
    {
     "data": {
      "text/plain": [
       "welly.well.Well"
      ]
     },
     "execution_count": 13,
     "metadata": {},
     "output_type": "execute_result"
    }
   ],
   "source": [
    "type(w)"
   ]
  },
  {
   "cell_type": "code",
   "execution_count": 10,
   "metadata": {},
   "outputs": [
    {
     "data": {
      "text/plain": [
       "module"
      ]
     },
     "execution_count": 10,
     "metadata": {},
     "output_type": "execute_result"
    }
   ],
   "source": [
    "type(welly.well)"
   ]
  },
  {
   "cell_type": "code",
   "execution_count": 11,
   "metadata": {},
   "outputs": [
    {
     "data": {
      "text/plain": [
       "type"
      ]
     },
     "execution_count": 11,
     "metadata": {},
     "output_type": "execute_result"
    }
   ],
   "source": [
    "type(welly.well.Well)"
   ]
  },
  {
   "cell_type": "code",
   "execution_count": 4,
   "metadata": {},
   "outputs": [
    {
     "data": {
      "text/plain": [
       "{'GR': Curve([30.4704, 30.8189, 30.1844, ..., 70.3552, 70.3552,     nan]),\n",
       " 'V_CLAY_ALL': Curve([0.2613, 0.2672, 0.2564, ..., 0.9349, 0.9349,    nan])}"
      ]
     },
     "execution_count": 4,
     "metadata": {},
     "output_type": "execute_result"
    }
   ],
   "source": [
    "w.data"
   ]
  },
  {
   "cell_type": "code",
   "execution_count": 12,
   "metadata": {},
   "outputs": [
    {
     "data": {
      "text/plain": [
       "dict"
      ]
     },
     "execution_count": 12,
     "metadata": {},
     "output_type": "execute_result"
    }
   ],
   "source": [
    "type(w.data)"
   ]
  },
  {
   "cell_type": "code",
   "execution_count": 18,
   "metadata": {},
   "outputs": [
    {
     "data": {
      "text/plain": [
       "pandas.core.frame.DataFrame"
      ]
     },
     "execution_count": 18,
     "metadata": {},
     "output_type": "execute_result"
    }
   ],
   "source": [
    "type(w.df())"
   ]
  },
  {
   "cell_type": "code",
   "execution_count": 19,
   "metadata": {},
   "outputs": [
    {
     "data": {
      "text/html": [
       "<div>\n",
       "<style scoped>\n",
       "    .dataframe tbody tr th:only-of-type {\n",
       "        vertical-align: middle;\n",
       "    }\n",
       "\n",
       "    .dataframe tbody tr th {\n",
       "        vertical-align: top;\n",
       "    }\n",
       "\n",
       "    .dataframe thead th {\n",
       "        text-align: right;\n",
       "    }\n",
       "</style>\n",
       "<table border=\"1\" class=\"dataframe\">\n",
       "  <thead>\n",
       "    <tr style=\"text-align: right;\">\n",
       "      <th></th>\n",
       "      <th>GR</th>\n",
       "      <th>V_CLAY_ALL</th>\n",
       "    </tr>\n",
       "    <tr>\n",
       "      <th>DEPT</th>\n",
       "      <th></th>\n",
       "      <th></th>\n",
       "    </tr>\n",
       "  </thead>\n",
       "  <tbody>\n",
       "    <tr>\n",
       "      <th>902.1352</th>\n",
       "      <td>30.4704</td>\n",
       "      <td>0.2613</td>\n",
       "    </tr>\n",
       "    <tr>\n",
       "      <th>902.2876</th>\n",
       "      <td>30.8189</td>\n",
       "      <td>0.2672</td>\n",
       "    </tr>\n",
       "    <tr>\n",
       "      <th>902.4400</th>\n",
       "      <td>30.1844</td>\n",
       "      <td>0.2564</td>\n",
       "    </tr>\n",
       "    <tr>\n",
       "      <th>902.5924</th>\n",
       "      <td>30.2714</td>\n",
       "      <td>0.2579</td>\n",
       "    </tr>\n",
       "    <tr>\n",
       "      <th>902.7448</th>\n",
       "      <td>30.7941</td>\n",
       "      <td>0.2667</td>\n",
       "    </tr>\n",
       "  </tbody>\n",
       "</table>\n",
       "</div>"
      ],
      "text/plain": [
       "               GR  V_CLAY_ALL\n",
       "DEPT                         \n",
       "902.1352  30.4704      0.2613\n",
       "902.2876  30.8189      0.2672\n",
       "902.4400  30.1844      0.2564\n",
       "902.5924  30.2714      0.2579\n",
       "902.7448  30.7941      0.2667"
      ]
     },
     "execution_count": 19,
     "metadata": {},
     "output_type": "execute_result"
    }
   ],
   "source": [
    "w.df().head() # df() method converts welly.well.Well into dataframe"
   ]
  },
  {
   "cell_type": "code",
   "execution_count": 11,
   "metadata": {},
   "outputs": [
    {
     "data": {
      "text/plain": [
       "Float64Index([ 902.1352,  902.2876,    902.44,  902.5924,  902.7448,  902.8972,\n",
       "               903.0496,   903.202,  903.3544,  903.5068,\n",
       "              ...\n",
       "              2927.3788, 2927.5312, 2927.6836,  2927.836, 2927.9884, 2928.1408,\n",
       "              2928.2932, 2928.4456,  2928.598, 2928.7504],\n",
       "             dtype='float64', name='DEPT', length=13299)"
      ]
     },
     "execution_count": 11,
     "metadata": {},
     "output_type": "execute_result"
    }
   ],
   "source": [
    "w.df().index"
   ]
  },
  {
   "cell_type": "code",
   "execution_count": 15,
   "metadata": {},
   "outputs": [
    {
     "data": {
      "text/html": [
       "<div>\n",
       "<style scoped>\n",
       "    .dataframe tbody tr th:only-of-type {\n",
       "        vertical-align: middle;\n",
       "    }\n",
       "\n",
       "    .dataframe tbody tr th {\n",
       "        vertical-align: top;\n",
       "    }\n",
       "\n",
       "    .dataframe thead th {\n",
       "        text-align: right;\n",
       "    }\n",
       "</style>\n",
       "<table border=\"1\" class=\"dataframe\">\n",
       "  <thead>\n",
       "    <tr style=\"text-align: right;\">\n",
       "      <th></th>\n",
       "      <th>GR</th>\n",
       "      <th>V_CLAY_ALL</th>\n",
       "    </tr>\n",
       "  </thead>\n",
       "  <tbody>\n",
       "    <tr>\n",
       "      <th>count</th>\n",
       "      <td>13298.000000</td>\n",
       "      <td>13298.000000</td>\n",
       "    </tr>\n",
       "    <tr>\n",
       "      <th>mean</th>\n",
       "      <td>55.460314</td>\n",
       "      <td>0.681391</td>\n",
       "    </tr>\n",
       "    <tr>\n",
       "      <th>std</th>\n",
       "      <td>12.633178</td>\n",
       "      <td>0.209657</td>\n",
       "    </tr>\n",
       "    <tr>\n",
       "      <th>min</th>\n",
       "      <td>18.509500</td>\n",
       "      <td>0.059300</td>\n",
       "    </tr>\n",
       "    <tr>\n",
       "      <th>25%</th>\n",
       "      <td>46.491725</td>\n",
       "      <td>0.531825</td>\n",
       "    </tr>\n",
       "    <tr>\n",
       "      <th>50%</th>\n",
       "      <td>59.124550</td>\n",
       "      <td>0.745200</td>\n",
       "    </tr>\n",
       "    <tr>\n",
       "      <th>75%</th>\n",
       "      <td>64.341375</td>\n",
       "      <td>0.833300</td>\n",
       "    </tr>\n",
       "    <tr>\n",
       "      <th>max</th>\n",
       "      <td>95.891600</td>\n",
       "      <td>1.000000</td>\n",
       "    </tr>\n",
       "  </tbody>\n",
       "</table>\n",
       "</div>"
      ],
      "text/plain": [
       "                 GR    V_CLAY_ALL\n",
       "count  13298.000000  13298.000000\n",
       "mean      55.460314      0.681391\n",
       "std       12.633178      0.209657\n",
       "min       18.509500      0.059300\n",
       "25%       46.491725      0.531825\n",
       "50%       59.124550      0.745200\n",
       "75%       64.341375      0.833300\n",
       "max       95.891600      1.000000"
      ]
     },
     "execution_count": 15,
     "metadata": {},
     "output_type": "execute_result"
    }
   ],
   "source": [
    "\n",
    "w.df().describe()"
   ]
  },
  {
   "cell_type": "code",
   "execution_count": 6,
   "metadata": {},
   "outputs": [],
   "source": [
    "gr = w.data['GR'] "
   ]
  },
  {
   "cell_type": "code",
   "execution_count": 8,
   "metadata": {},
   "outputs": [],
   "source": [
    "gri=w.df().index\n",
    "#gri=wf.df.index.values"
   ]
  },
  {
   "cell_type": "code",
   "execution_count": 37,
   "metadata": {},
   "outputs": [
    {
     "data": {
      "text/plain": [
       "numpy.ndarray"
      ]
     },
     "execution_count": 37,
     "metadata": {},
     "output_type": "execute_result"
    }
   ],
   "source": [
    "type(gr)"
   ]
  },
  {
   "cell_type": "code",
   "execution_count": 55,
   "metadata": {},
   "outputs": [
    {
     "data": {
      "image/png": "[encoded data removed]",
      "text/plain": [
       "<Figure size 432x288 with 1 Axes>"
      ]
     },
     "metadata": {
      "needs_background": "light"
     },
     "output_type": "display_data"
    }
   ],
   "source": [
    "top=3000\n",
    "interval = 850\n",
    "base=top+interval\n",
    "gr_interval=gr[top:base]\n",
    "gri_interval=gri[top:base]\n",
    "plt.plot(gri_interval,gr_interval)\n",
    "#plt.plot(gri)\n",
    "plt.show()"
   ]
  },
  {
   "cell_type": "code",
   "execution_count": 11,
   "metadata": {},
   "outputs": [
    {
     "data": {
      "application/vnd.jupyter.widget-view+json": {
       "model_id": "d971433ca8034565bf4713e7d2018fb9",
       "version_major": 2,
       "version_minor": 0
      },
      "text/plain": [
       "interactive(children=(IntSlider(value=4000, description='top', max=8000, step=100), IntSlider(value=5000, desc…"
      ]
     },
     "metadata": {},
     "output_type": "display_data"
    }
   ],
   "source": [
    "@interact(top=(0,8000,100), interval =(10, 10000, 10))\n",
    "def testfunc(top, interval):\n",
    "    gr_interval=gr[top:top+interval]\n",
    "    gri_interval=gri[top:top+interval]\n",
    "    plt.plot(gri_interval,gr_interval)\n",
    "    plt.show()\n",
    "    return (top,interval)"
   ]
  },
  {
   "cell_type": "code",
   "execution_count": 12,
   "metadata": {},
   "outputs": [
    {
     "data": {
      "text/plain": [
       "poly1d([  5427.25085116, -10944.05807237,  57517.2767454 ,   -100.98701402])"
      ]
     },
     "execution_count": 12,
     "metadata": {},
     "output_type": "execute_result"
    },
    {
     "data": {
      "image/png": "[encoded data removed]",
      "text/plain": [
       "<Figure size 432x288 with 1 Axes>"
      ]
     },
     "metadata": {
      "needs_background": "light"
     },
     "output_type": "display_data"
    }
   ],
   "source": [
    "gr_interval_int=integrate.cumtrapz(gr_interval)\n",
    "gr_interval_int=np.append([0],gr_interval_int)\n",
    "x=np.linspace(0, 1, len(gri_interval))\n",
    "p = np.poly1d(np.polyfit(x, gr_interval_int, 3))\n",
    "y=p(x)\n",
    "#plt.plot(gri_interval,gr_interval_int)\n",
    "plt.plot(gri_interval,gr_interval_int)\n",
    "plt.plot(gri_interval,y)\n",
    "p"
   ]
  },
  {
   "cell_type": "code",
   "execution_count": 78,
   "metadata": {},
   "outputs": [
    {
     "data": {
      "text/plain": [
       "[<matplotlib.lines.Line2D at 0x1c2313f6a0>]"
      ]
     },
     "execution_count": 78,
     "metadata": {},
     "output_type": "execute_result"
    },
    {
     "data": {
      "image/png": "[encoded data removed]",
      "text/plain": [
       "<Figure size 432x288 with 1 Axes>"
      ]
     },
     "metadata": {
      "needs_background": "light"
     },
     "output_type": "display_data"
    }
   ],
   "source": [
    "gr_interval_int=integrate.cumtrapz(gr_interval)\n",
    "gr_interval_int=np.append([0],gr_interval_int)\n",
    "x=np.linspace(0, 1, len(gri_interval))\n",
    "dx=1/len(gri_interval)\n",
    "p2 = np.poly1d(np.polyfit(x, gr_interval, 3))\n",
    "y=p2(x)\n",
    "p3 = np.polyder(p,1)\n",
    "y_3 = p(x)\n",
    "y_4 = np.diff(y_3)\n",
    "y_4=np.append(y_4,y_4[-1])\n",
    "#plt.plot(gri_interval,gr_interval_int)\n",
    "plt.plot(gri_interval,gr_interval,'g')\n",
    "plt.plot(gri_interval,y,'b')\n",
    "\n",
    "\n",
    "plt.plot(gri_interval,y_4,'r')\n",
    "\n"
   ]
  },
  {
   "cell_type": "code",
   "execution_count": 104,
   "metadata": {},
   "outputs": [
    {
     "data": {
      "text/plain": [
       "[<matplotlib.lines.Line2D at 0x1c2243c780>]"
      ]
     },
     "execution_count": 104,
     "metadata": {},
     "output_type": "execute_result"
    },
    {
     "data": {
      "image/png": "[encoded data removed]",
      "text/plain": [
       "<Figure size 216x360 with 1 Axes>"
      ]
     },
     "metadata": {
      "needs_background": "light"
     },
     "output_type": "display_data"
    }
   ],
   "source": [
    "gr_interval_int=integrate.cumtrapz(gr_interval)\n",
    "plt.figure(figsize=(3,5))\n",
    "plt.plot(gr_interval_int)"
   ]
  },
  {
   "cell_type": "code",
   "execution_count": 17,
   "metadata": {},
   "outputs": [
    {
     "data": {
      "text/plain": [
       "23327.96"
      ]
     },
     "execution_count": 17,
     "metadata": {},
     "output_type": "execute_result"
    }
   ],
   "source": [
    "gr_interval_int"
   ]
  },
  {
   "cell_type": "code",
   "execution_count": 13,
   "metadata": {},
   "outputs": [
    {
     "name": "stderr",
     "output_type": "stream",
     "text": [
      "/Applications/anaconda3/envs/geocomp/lib/python3.7/site-packages/mkl_fft/_numpy_fft.py:1044: FutureWarning: Using a non-tuple sequence for multidimensional indexing is deprecated; use `arr[tuple(seq)]` instead of `arr[seq]`. In the future this will be interpreted as an array index, `arr[np.array(seq)]`, which will result either in an error or a different result.\n",
      "  output = mkl_fft.rfftn_numpy(a, s, axes)\n"
     ]
    }
   ],
   "source": [
    "widths = np.arange(1, 31)\n",
    "cwtmatr = signal.cwt(gr_interval, signal.ricker, widths)\n"
   ]
  },
  {
   "cell_type": "code",
   "execution_count": 59,
   "metadata": {},
   "outputs": [
    {
     "data": {
      "image/png": "[encoded data removed]",
      "text/plain": [
       "<Figure size 432x288 with 2 Axes>"
      ]
     },
     "metadata": {
      "needs_background": "light"
     },
     "output_type": "display_data"
    }
   ],
   "source": [
    "plt.imshow(cwtmatr, extent=[top, base, 31, 1], cmap='viridis', aspect='auto',\n",
    "...            vmax=abs(cwtmatr).max(), vmin=-abs(cwtmatr).max())\n",
    "plt.colorbar(shrink=0.75)\n",
    "plt.show()\n"
   ]
  },
  {
   "cell_type": "code",
   "execution_count": 56,
   "metadata": {},
   "outputs": [
    {
     "name": "stdout",
     "output_type": "stream",
     "text": [
      "[ 79 126 160 171 207 237 260 306 340 357 405 442 467 476 485 503 535 560\n",
      " 609 661 699 739]\n"
     ]
    },
    {
     "data": {
      "text/plain": [
       "[<matplotlib.lines.Line2D at 0x1c241dd0f0>]"
      ]
     },
     "execution_count": 56,
     "metadata": {},
     "output_type": "execute_result"
    },
    {
     "data": {
      "image/png": "[encoded data removed]",
      "text/plain": [
       "<Figure size 432x288 with 1 Axes>"
      ]
     },
     "metadata": {
      "needs_background": "light"
     },
     "output_type": "display_data"
    }
   ],
   "source": [
    "scale=15\n",
    "zero_crossings = np.where(np.diff(np.signbit(cwtmatr[scale,:])))[0]\n",
    "zero_crossings = np.delete(zero_crossings,0)\n",
    "print(zero_crossings)\n",
    "\n",
    "upper = 0 \n",
    "\n",
    "lst = len(gr_interval)\n",
    "gr_blk=np.copy(gr_interval)\n",
    "for i in zero_crossings:\n",
    "    #print(i)\n",
    "    avg = np.average(gr_interval[upper:i])\n",
    "    gr_blk[upper:i]=avg\n",
    "    upper = i\n",
    "    #print(avg)\n",
    "avg = np.average(gr_interval[upper:lst])\n",
    "gr_blk[upper:lst]=avg\n",
    "plt.plot(gr_interval)\n",
    "plt.plot(gr_blk)\n",
    "\n"
   ]
  },
  {
   "cell_type": "code",
   "execution_count": 83,
   "metadata": {},
   "outputs": [
    {
     "data": {
      "application/vnd.jupyter.widget-view+json": {
       "model_id": "95af452c203140abb0aad61ea9137111",
       "version_major": 2,
       "version_minor": 0
      },
      "text/plain": [
       "interactive(children=(IntSlider(value=15, description='scale', max=29), Output()), _dom_classes=('widget-inter…"
      ]
     },
     "metadata": {},
     "output_type": "display_data"
    }
   ],
   "source": [
    "@interact(scale=(0,29,1))\n",
    "def h(scale=15):\n",
    "    \n",
    "    zero_crossings = np.where(np.diff(np.signbit(cwtmatr[scale,:])))[0]\n",
    "    zero_crossings = np.delete(zero_crossings,0)\n",
    "    print(zero_crossings)\n",
    "\n",
    "    upper = 0 \n",
    "\n",
    "    lst = len(gr_interval)\n",
    "    gr_blk=np.copy(gr_interval)\n",
    "    for i in zero_crossings:\n",
    "        #print(i)\n",
    "        avg = np.average(gr_interval[upper:i])\n",
    "        gr_blk[upper:i]=avg\n",
    "        upper = i\n",
    "        #print(avg)\n",
    "    avg = np.average(gr_interval[upper:lst])\n",
    "    gr_blk[upper:lst]=avg\n",
    "    plt.plot(gr_interval)\n",
    "    plt.plot(gr_blk)\n",
    "\n",
    "    return scale"
   ]
  },
  {
   "cell_type": "code",
   "execution_count": 126,
   "metadata": {},
   "outputs": [
    {
     "data": {
      "application/vnd.jupyter.widget-view+json": {
       "model_id": "d7b1cff058ff40d3a0258e6b9b89b635",
       "version_major": 2,
       "version_minor": 0
      },
      "text/plain": [
       "interactive(children=(IntSlider(value=15, description='scale', max=29), Output()), _dom_classes=('widget-inter…"
      ]
     },
     "metadata": {},
     "output_type": "display_data"
    }
   ],
   "source": [
    "@interact(scale=(0,29,1))\n",
    "def h(scale=15):\n",
    "    \n",
    "    zero_crossings = np.where(np.diff(np.signbit(cwtmatr[scale,:])))[0]\n",
    "    zero_crossings = np.delete(zero_crossings,0)\n",
    "    print(zero_crossings)\n",
    "\n",
    "    upper = 0 \n",
    "\n",
    "    lst = len(gr_interval)\n",
    "    gr_blk=np.copy(gr_interval)\n",
    "    for i in zero_crossings:\n",
    "        #print(i)\n",
    "        avg = np.average(gr_interval[upper:i])\n",
    "        gr_blk[upper:i]=avg\n",
    "        upper = i\n",
    "        #print(avg)\n",
    "    avg = np.average(gr_interval[upper:lst])\n",
    "    gr_blk[upper:lst]=avg\n",
    "    plt.plot(gr_interval)\n",
    "    plt.plot(gr_blk)\n",
    "\n",
    "    return scale"
   ]
  },
  {
   "cell_type": "code",
   "execution_count": 134,
   "metadata": {},
   "outputs": [
    {
     "name": "stderr",
     "output_type": "stream",
     "text": [
      "/Applications/anaconda3/envs/geocomp/lib/python3.7/site-packages/mkl_fft/_numpy_fft.py:1044: FutureWarning: Using a non-tuple sequence for multidimensional indexing is deprecated; use `arr[tuple(seq)]` instead of `arr[seq]`. In the future this will be interpreted as an array index, `arr[np.array(seq)]`, which will result either in an error or a different result.\n",
      "  output = mkl_fft.rfftn_numpy(a, s, axes)\n"
     ]
    }
   ],
   "source": [
    "    widths = np.arange(1, 31)\n",
    "    cwtmatr = signal.cwt(gr_interval, signal.ricker, widths)"
   ]
  },
  {
   "cell_type": "code",
   "execution_count": 132,
   "metadata": {},
   "outputs": [
    {
     "data": {
      "application/vnd.jupyter.widget-view+json": {
       "model_id": "8871f7105f4148a2a22717a30a5280a3",
       "version_major": 2,
       "version_minor": 0
      },
      "text/plain": [
       "interactive(children=(IntSlider(value=15, description='scale', max=29), Output()), _dom_classes=('widget-inter…"
      ]
     },
     "metadata": {},
     "output_type": "display_data"
    }
   ],
   "source": [
    "@interact(scale=(0,29,1))\n",
    "def h(scale=15):\n",
    "    \n",
    "    zero_crossings = np.where(np.diff(np.signbit(cwtmatr[scale,:])))[0]\n",
    "    zero_crossings = np.delete(zero_crossings,0)\n",
    "    print(zero_crossings)\n",
    "\n",
    "    upper = 0 \n",
    "\n",
    "    lst = len(gr_interval)\n",
    "    zero_crossings = np.append(zero_crossings,lst)\n",
    "    gr_blk=np.copy(gr_interval)\n",
    "    for i in zero_crossings:\n",
    "        avg = np.average(gr_interval[upper:i])\n",
    "        gr_blk[upper:i]=avg\n",
    "        upper = i\n",
    "        #print(avg)\n",
    "    #avg = np.average(gr_interval[upper:lst])\n",
    "    #gr_blk[upper:lst]=avg\n",
    "    plt.plot(gr_interval)\n",
    "    plt.plot(gr_blk)\n",
    "\n",
    "    return scale"
   ]
  },
  {
   "cell_type": "code",
   "execution_count": 137,
   "metadata": {},
   "outputs": [
    {
     "name": "stderr",
     "output_type": "stream",
     "text": [
      "/Applications/anaconda3/envs/geocomp/lib/python3.7/site-packages/mkl_fft/_numpy_fft.py:1044: FutureWarning: Using a non-tuple sequence for multidimensional indexing is deprecated; use `arr[tuple(seq)]` instead of `arr[seq]`. In the future this will be interpreted as an array index, `arr[np.array(seq)]`, which will result either in an error or a different result.\n",
      "  output = mkl_fft.rfftn_numpy(a, s, axes)\n"
     ]
    }
   ],
   "source": [
    "    widths = np.arange(1, 31)\n",
    "    cwtmatr = signal.cwt(gr_interval, signal.ricker, widths)"
   ]
  },
  {
   "cell_type": "code",
   "execution_count": 16,
   "metadata": {},
   "outputs": [
    {
     "data": {
      "application/vnd.jupyter.widget-view+json": {
       "model_id": "",
       "version_major": 2,
       "version_minor": 0
      },
      "text/plain": [
       "interactive(children=(IntSlider(value=17, description='scale', max=29), Output()), _dom_classes=('widget-inter…"
      ]
     },
     "metadata": {},
     "output_type": "display_data"
    }
   ],
   "source": [
    "@interact(scale=(0,29,1))\n",
    "def h(scale=17):\n",
    "    \n",
    "    zero_crossings = np.where(np.diff(np.signbit(cwtmatr[scale,:])))[0]\n",
    "    zero_crossings = np.delete(zero_crossings,0)\n",
    "    print(zero_crossings)\n",
    "\n",
    "    upper = 0 \n",
    "\n",
    "    lst = len(gr_interval)\n",
    "    zero_crossings = np.append(zero_crossings,lst)\n",
    "    \n",
    "    gr_blk=np.copy(gr_interval)\n",
    "    for i in zero_crossings:\n",
    "\n",
    "        gr_interval_int=integrate.cumtrapz(gr_interval[upper:i]) # integrate the log\n",
    "        gr_interval_int=np.append([0],gr_interval_int) # add zero at beginning to keep length the same\n",
    "        \n",
    "        x=np.linspace(0, 1, len(gri_interval[upper:i])) # make x-axis scale independent (still need to do for y-axis)\n",
    "        p = np.poly1d(np.polyfit(x, gr_interval_int, 3)) # fit polynome: last argument is order 2=linear\n",
    "\n",
    "        y_3 = p(x) # calculate fitted function\n",
    "        y_4 = np.diff(y_3) # differentiate back \n",
    "        y_4=np.append(y_4,y_4[-1]) # add values at end to make sure length stays the same\n",
    "\n",
    "        gr_blk[upper:i]=y_4 # copy to output array\n",
    "        \n",
    "        upper = i # make new upper boundary of interval\n",
    "        \n",
    "    # Just for plotting...\n",
    "\n",
    "    top_max = np.max(np.array(gri_interval))  \n",
    "    base_min=np.min(np.array(gri_interval))\n",
    "    \n",
    "    plt.figure(figsize=(3,10))\n",
    "    plt.plot(gr_interval,gri_interval)\n",
    "    plt.plot(gr_blk,gri_interval,'r.')\n",
    "    plt.ylim(top_max,base_min)  # \n",
    "    #plt.savefig('figure2_8.png')\n",
    "   \n",
    "\n",
    "    return scale"
   ]
  },
  {
   "cell_type": "code",
   "execution_count": 45,
   "metadata": {},
   "outputs": [],
   "source": [
    "def fitpoly(y,order=2):\n",
    "    \"\"\" Function to fit on integrated numpy array and return fitted function\"\"\"\n",
    "    y = integrate.cumtrapz(y) # integrate the log\n",
    "    y = np.append([0],y) # add zero at beginning to keep length the same\n",
    "    x=np.linspace(0, 1, len(y)) # make x-axis scale independent (still need to do for y-axis)\n",
    "    coef = np.polyfit(x, y, order)\n",
    "    p = np.poly1d(coef) # fit polynome: last argument is order 2=linear\n",
    "    z = p(x) # calculate fitted function\n",
    "    z = np.diff(z) # differentiate back \n",
    "    z=np.append(z,z[-1]) # add values at end to make sure length stays the same\n",
    "    \n",
    "    return z, coef\n"
   ]
  },
  {
   "cell_type": "code",
   "execution_count": 43,
   "metadata": {},
   "outputs": [],
   "source": [
    "def blocker(y, scale, wid=31):\n",
    "    \"\"\"create array of zerocrossings from input array using wavelet transform\"\"\"\n",
    "    \n",
    "    widths = np.arange(1, wid)\n",
    "    cwtmatr = signal.cwt(y, signal.ricker, widths)\n",
    "    zero_crossings = np.where(np.diff(np.signbit(cwtmatr[scale,:])))[0]\n",
    "    zero_crossings = np.delete(zero_crossings,0)\n",
    "    lst = len(y)\n",
    "    zero_crossings = np.append(zero_crossings,lst)\n",
    "    \n",
    "    return zero_crossings"
   ]
  },
  {
   "cell_type": "code",
   "execution_count": 81,
   "metadata": {},
   "outputs": [
    {
     "data": {
      "application/vnd.jupyter.widget-view+json": {
       "model_id": "26c7796259c049bda03e7222a069bbc0",
       "version_major": 2,
       "version_minor": 0
      },
      "text/plain": [
       "interactive(children=(IntSlider(value=8, description='scale', max=29), Output()), _dom_classes=('widget-intera…"
      ]
     },
     "metadata": {},
     "output_type": "display_data"
    }
   ],
   "source": [
    "@interact(scale=(0,29,1))\n",
    "def h(scale=8):\n",
    "    \n",
    "    upper = 0\n",
    "    zeroes = blocker(gr_interval, scale, )    \n",
    "    #gr_blk=np.copy(gr_interval)\n",
    "    \n",
    "    for i in zeroes:\n",
    "        \n",
    "        gr_blk[upper:i], coeff = fitpoly(gr_interval[upper:i],3) # unpack fitted array and parameters\n",
    "        upper = i # make new upper boundary of interval\n",
    "        \n",
    "    # Just for plotting...\n",
    "\n",
    "    top_max = np.max(np.array(gri_interval))  \n",
    "    base_min=np.min(np.array(gri_interval))\n",
    "    \n",
    "    plt.figure(figsize=(3,10))\n",
    "    plt.plot(gr_interval,gri_interval)\n",
    "    plt.plot(gr_blk,gri_interval,'r.')\n",
    "    plt.ylim(top_max,base_min)  # \n",
    "    #plt.savefig('figure2_8.png')\n",
    "    print(coeff)\n",
    "    print(zeroes)\n",
    "\n",
    "    return scale"
   ]
  },
  {
   "cell_type": "code",
   "execution_count": 102,
   "metadata": {},
   "outputs": [
    {
     "data": {
      "application/vnd.jupyter.widget-view+json": {
       "model_id": "44b49b6f0cc44378aabccf96e8c1b126",
       "version_major": 2,
       "version_minor": 0
      },
      "text/plain": [
       "interactive(children=(IntSlider(value=29, description='scale', max=29, min=1), IntSlider(value=11, description…"
      ]
     },
     "metadata": {},
     "output_type": "display_data"
    }
   ],
   "source": [
    "@interact(scale=(1,29,1),scale2=(0,28,1))\n",
    "def h(scale=29,scale2=11):\n",
    "    \n",
    " \n",
    "    zeroes = blocker(gr_interval, scale, )    \n",
    "    gr_blk=np.copy(gr_interval)\n",
    "    gr_res=np.copy(gr_interval)\n",
    "    gr_blk2=np.copy(gr_interval)\n",
    "    gr_blk_sum=np.copy(gr_interval)\n",
    "    \n",
    "    upper = 0\n",
    "    \n",
    "    for i in zeroes:\n",
    "        \n",
    "        gr_blk[upper:i], coeff = fitpoly(gr_interval[upper:i],2) # unpack fitted array and parameters       \n",
    "        upper = i # make new upper boundary of interval\n",
    "        \n",
    "    upper = 0\n",
    "\n",
    "    gr_res = gr_interval - gr_blk\n",
    "    zeroes2 = blocker(gr_res, scale2, ) \n",
    "    \n",
    "    for i in zeroes2:\n",
    "        \n",
    "        gr_blk2[upper:i], coeff2 = fitpoly(gr_res[upper:i],2) \n",
    "        upper = i # make new upper boundary of interval\n",
    "    \n",
    "    gr_blk_sum = gr_blk + gr_blk2   \n",
    "    # Just for plotting...\n",
    "\n",
    "    top_max = np.max(np.array(gri_interval))  \n",
    "    base_min=np.min(np.array(gri_interval))\n",
    "    \n",
    "    plt.figure(figsize=(3,10))\n",
    "    plt.plot(gr_interval,gri_interval)\n",
    "    plt.plot(gr_blk,gri_interval,'b.')\n",
    "    plt.plot(gr_blk_sum,gri_interval,'r.')\n",
    "    plt.ylim(top_max,base_min)  # \n",
    "    #plt.savefig('figure2_8.png')\n",
    "    print(coeff)\n",
    "    print(coeff2)\n",
    "    print(zeroes)\n",
    "\n",
    "    return scale"
   ]
  },
  {
   "cell_type": "code",
   "execution_count": 101,
   "metadata": {},
   "outputs": [
    {
     "data": {
      "text/plain": [
       "1572.5428"
      ]
     },
     "execution_count": 101,
     "metadata": {},
     "output_type": "execute_result"
    }
   ],
   "source": [
    "np.max(np.array(gri_interval))"
   ]
  },
  {
   "cell_type": "code",
   "execution_count": null,
   "metadata": {},
   "outputs": [],
   "source": []
  }
 ],
 "metadata": {
  "kernelspec": {
   "display_name": "geocomp",
   "language": "python",
   "name": "geocomp"
  },
  "language_info": {
   "codemirror_mode": {
    "name": "ipython",
    "version": 3
   },
   "file_extension": ".py",
   "mimetype": "text/x-python",
   "name": "python",
   "nbconvert_exporter": "python",
   "pygments_lexer": "ipython3",
   "version": "3.7.0"
  }
 },
 "nbformat": 4,
 "nbformat_minor": 2
}
